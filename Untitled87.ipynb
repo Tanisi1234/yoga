{
  "nbformat": 4,
  "nbformat_minor": 0,
  "metadata": {
    "colab": {
      "provenance": [],
      "authorship_tag": "ABX9TyMx1L9lKKwZvsrXo2NfPfnA",
      "include_colab_link": true
    },
    "kernelspec": {
      "name": "python3",
      "display_name": "Python 3"
    },
    "language_info": {
      "name": "python"
    }
  },
  "cells": [
    {
      "cell_type": "markdown",
      "metadata": {
        "id": "view-in-github",
        "colab_type": "text"
      },
      "source": [
        "<a href=\"https://colab.research.google.com/github/Tanisi1234/yoga/blob/main/Untitled87.ipynb\" target=\"_parent\"><img src=\"https://colab.research.google.com/assets/colab-badge.svg\" alt=\"Open In Colab\"/></a>"
      ]
    },
    {
      "cell_type": "code",
      "execution_count": 1,
      "metadata": {
        "colab": {
          "base_uri": "https://localhost:8080/"
        },
        "id": "znAMnW5Z53mt",
        "outputId": "03ed1724-7d64-43ec-df20-a7d09e466483"
      },
      "outputs": [
        {
          "output_type": "stream",
          "name": "stdout",
          "text": [
            "Cloning into 'parkinvision'...\n",
            "remote: Enumerating objects: 368, done.\u001b[K\n",
            "remote: Counting objects: 100% (50/50), done.\u001b[K\n",
            "remote: Compressing objects: 100% (50/50), done.\u001b[K\n",
            "remote: Total 368 (delta 35), reused 0 (delta 0), pack-reused 318 (from 1)\u001b[K\n",
            "Receiving objects: 100% (368/368), 23.06 MiB | 18.59 MiB/s, done.\n",
            "Resolving deltas: 100% (75/75), done.\n",
            "/content/parkinvision\n"
          ]
        }
      ],
      "source": [
        "!git clone https://github.com/maezyn/parkinvision.git\n",
        "%cd parkinvision\n"
      ]
    },
    {
      "cell_type": "code",
      "source": [
        "!pip install -r requirements.txt\n"
      ],
      "metadata": {
        "colab": {
          "base_uri": "https://localhost:8080/"
        },
        "id": "LzDtpPne56e5",
        "outputId": "53a09bdf-a606-421f-949f-a2fc8b710298"
      },
      "execution_count": 2,
      "outputs": [
        {
          "output_type": "stream",
          "name": "stdout",
          "text": [
            "Collecting attrs==19.3.0 (from -r requirements.txt (line 1))\n",
            "  Downloading attrs-19.3.0-py2.py3-none-any.whl.metadata (9.0 kB)\n",
            "Collecting backcall==0.1.0 (from -r requirements.txt (line 2))\n",
            "  Downloading backcall-0.1.0.zip (11 kB)\n",
            "  Preparing metadata (setup.py) ... \u001b[?25l\u001b[?25hdone\n",
            "Collecting bleach==3.1.4 (from -r requirements.txt (line 3))\n",
            "  Downloading bleach-3.1.4-py2.py3-none-any.whl.metadata (21 kB)\n",
            "Collecting certifi==2019.11.28 (from -r requirements.txt (line 4))\n",
            "  Downloading certifi-2019.11.28-py2.py3-none-any.whl.metadata (2.5 kB)\n",
            "Collecting chardet==3.0.4 (from -r requirements.txt (line 5))\n",
            "  Downloading chardet-3.0.4-py2.py3-none-any.whl.metadata (3.2 kB)\n",
            "Collecting Click==7.0 (from -r requirements.txt (line 6))\n",
            "  Downloading Click-7.0-py2.py3-none-any.whl.metadata (3.5 kB)\n",
            "Collecting cycler==0.10.0 (from -r requirements.txt (line 7))\n",
            "  Downloading cycler-0.10.0-py2.py3-none-any.whl.metadata (722 bytes)\n",
            "Collecting decorator==4.4.1 (from -r requirements.txt (line 8))\n",
            "  Downloading decorator-4.4.1-py2.py3-none-any.whl.metadata (4.2 kB)\n",
            "Collecting defusedxml==0.6.0 (from -r requirements.txt (line 9))\n",
            "  Downloading defusedxml-0.6.0-py2.py3-none-any.whl.metadata (31 kB)\n",
            "Collecting Django==3.0.7 (from -r requirements.txt (line 10))\n",
            "  Downloading Django-3.0.7-py3-none-any.whl.metadata (3.6 kB)\n",
            "Collecting entrypoints==0.3 (from -r requirements.txt (line 11))\n",
            "  Downloading entrypoints-0.3-py2.py3-none-any.whl.metadata (1.4 kB)\n",
            "Collecting Flask==1.1.1 (from -r requirements.txt (line 12))\n",
            "  Downloading Flask-1.1.1-py2.py3-none-any.whl.metadata (4.4 kB)\n",
            "Collecting gunicorn==20.0.4 (from -r requirements.txt (line 13))\n",
            "  Downloading gunicorn-20.0.4-py2.py3-none-any.whl.metadata (3.5 kB)\n",
            "Collecting idna==2.8 (from -r requirements.txt (line 14))\n",
            "  Downloading idna-2.8-py2.py3-none-any.whl.metadata (8.9 kB)\n",
            "Collecting imageio==2.6.1 (from -r requirements.txt (line 15))\n",
            "  Downloading imageio-2.6.1-py3-none-any.whl.metadata (2.8 kB)\n",
            "Collecting importlib-metadata==1.4.0 (from -r requirements.txt (line 16))\n",
            "  Downloading importlib_metadata-1.4.0-py2.py3-none-any.whl.metadata (2.1 kB)\n",
            "Collecting ipykernel==5.1.4 (from -r requirements.txt (line 17))\n",
            "  Downloading ipykernel-5.1.4-py3-none-any.whl.metadata (1.0 kB)\n",
            "Collecting ipython==7.9.0 (from -r requirements.txt (line 18))\n",
            "  Downloading ipython-7.9.0-py3-none-any.whl.metadata (4.3 kB)\n",
            "Requirement already satisfied: ipython-genutils==0.2.0 in /usr/local/lib/python3.11/dist-packages (from -r requirements.txt (line 19)) (0.2.0)\n",
            "Collecting ipywidgets==7.5.1 (from -r requirements.txt (line 20))\n",
            "  Downloading ipywidgets-7.5.1-py2.py3-none-any.whl.metadata (1.8 kB)\n",
            "Collecting itsdangerous==1.1.0 (from -r requirements.txt (line 21))\n",
            "  Downloading itsdangerous-1.1.0-py2.py3-none-any.whl.metadata (3.1 kB)\n",
            "Collecting jedi==0.16.0 (from -r requirements.txt (line 22))\n",
            "  Downloading jedi-0.16.0-py2.py3-none-any.whl.metadata (17 kB)\n",
            "Collecting Jinja2==2.11.0 (from -r requirements.txt (line 23))\n",
            "  Downloading Jinja2-2.11.0-py2.py3-none-any.whl.metadata (3.5 kB)\n",
            "Collecting joblib==0.14.1 (from -r requirements.txt (line 24))\n",
            "  Downloading joblib-0.14.1-py2.py3-none-any.whl.metadata (4.5 kB)\n",
            "Collecting jsonschema==3.2.0 (from -r requirements.txt (line 25))\n",
            "  Downloading jsonschema-3.2.0-py2.py3-none-any.whl.metadata (7.8 kB)\n",
            "Collecting jupyter==1.0.0 (from -r requirements.txt (line 26))\n",
            "  Downloading jupyter-1.0.0-py2.py3-none-any.whl.metadata (995 bytes)\n",
            "Collecting jupyter-client==5.3.4 (from -r requirements.txt (line 27))\n",
            "  Downloading jupyter_client-5.3.4-py2.py3-none-any.whl.metadata (3.7 kB)\n",
            "Requirement already satisfied: jupyter-console==6.1.0 in /usr/local/lib/python3.11/dist-packages (from -r requirements.txt (line 28)) (6.1.0)\n",
            "Collecting jupyter-core==4.6.1 (from -r requirements.txt (line 29))\n",
            "  Downloading jupyter_core-4.6.1-py2.py3-none-any.whl.metadata (941 bytes)\n",
            "Collecting kiwisolver==1.1.0 (from -r requirements.txt (line 30))\n",
            "  Downloading kiwisolver-1.1.0.tar.gz (30 kB)\n",
            "  Preparing metadata (setup.py) ... \u001b[?25l\u001b[?25hdone\n",
            "Collecting MarkupSafe==1.1.1 (from -r requirements.txt (line 31))\n",
            "  Downloading MarkupSafe-1.1.1.tar.gz (19 kB)\n",
            "  Preparing metadata (setup.py) ... \u001b[?25l\u001b[?25hdone\n",
            "Collecting matplotlib==3.0.3 (from -r requirements.txt (line 32))\n",
            "  Downloading matplotlib-3.0.3.tar.gz (36.6 MB)\n",
            "\u001b[2K     \u001b[90m━━━━━━━━━━━━━━━━━━━━━━━━━━━━━━━━━━━━━━━━\u001b[0m \u001b[32m36.6/36.6 MB\u001b[0m \u001b[31m27.9 MB/s\u001b[0m eta \u001b[36m0:00:00\u001b[0m\n",
            "\u001b[?25h  Preparing metadata (setup.py) ... \u001b[?25l\u001b[?25hdone\n",
            "Collecting mistune==0.8.4 (from -r requirements.txt (line 33))\n",
            "  Downloading mistune-0.8.4-py2.py3-none-any.whl.metadata (8.5 kB)\n",
            "Collecting nbconvert==5.6.1 (from -r requirements.txt (line 34))\n",
            "  Downloading nbconvert-5.6.1-py2.py3-none-any.whl.metadata (5.8 kB)\n",
            "Collecting nbformat==5.0.4 (from -r requirements.txt (line 35))\n",
            "  Downloading nbformat-5.0.4-py3-none-any.whl.metadata (1.2 kB)\n",
            "Collecting networkx==2.4 (from -r requirements.txt (line 36))\n",
            "  Downloading networkx-2.4-py3-none-any.whl.metadata (4.9 kB)\n",
            "Collecting notebook==6.4.10 (from -r requirements.txt (line 37))\n",
            "  Downloading notebook-6.4.10-py3-none-any.whl.metadata (2.4 kB)\n",
            "Collecting numpy==1.18.1 (from -r requirements.txt (line 38))\n",
            "  Downloading numpy-1.18.1.zip (5.4 MB)\n",
            "\u001b[2K     \u001b[90m━━━━━━━━━━━━━━━━━━━━━━━━━━━━━━━━━━━━━━━━\u001b[0m \u001b[32m5.4/5.4 MB\u001b[0m \u001b[31m42.4 MB/s\u001b[0m eta \u001b[36m0:00:00\u001b[0m\n",
            "\u001b[?25h  Installing build dependencies ... \u001b[?25l\u001b[?25hdone\n",
            "  Getting requirements to build wheel ... \u001b[?25l\u001b[?25hdone\n",
            "  \u001b[1;31merror\u001b[0m: \u001b[1msubprocess-exited-with-error\u001b[0m\n",
            "  \n",
            "  \u001b[31m×\u001b[0m \u001b[32mPreparing metadata \u001b[0m\u001b[1;32m(\u001b[0m\u001b[32mpyproject.toml\u001b[0m\u001b[1;32m)\u001b[0m did not run successfully.\n",
            "  \u001b[31m│\u001b[0m exit code: \u001b[1;36m1\u001b[0m\n",
            "  \u001b[31m╰─>\u001b[0m See above for output.\n",
            "  \n",
            "  \u001b[1;35mnote\u001b[0m: This error originates from a subprocess, and is likely not a problem with pip.\n",
            "  Preparing metadata (pyproject.toml) ... \u001b[?25l\u001b[?25herror\n",
            "\u001b[1;31merror\u001b[0m: \u001b[1mmetadata-generation-failed\u001b[0m\n",
            "\n",
            "\u001b[31m×\u001b[0m Encountered error while generating package metadata.\n",
            "\u001b[31m╰─>\u001b[0m See above for output.\n",
            "\n",
            "\u001b[1;35mnote\u001b[0m: This is an issue with the package mentioned above, not pip.\n",
            "\u001b[1;36mhint\u001b[0m: See above for details.\n"
          ]
        }
      ]
    },
    {
      "cell_type": "code",
      "source": [
        "!pip install flask-ngrok"
      ],
      "metadata": {
        "colab": {
          "base_uri": "https://localhost:8080/"
        },
        "id": "KtLj4hAp6RJY",
        "outputId": "73c704a9-5aa0-4461-bcb5-f4f0c846910e"
      },
      "execution_count": 4,
      "outputs": [
        {
          "output_type": "stream",
          "name": "stdout",
          "text": [
            "Collecting flask-ngrok\n",
            "  Downloading flask_ngrok-0.0.25-py3-none-any.whl.metadata (1.8 kB)\n",
            "Requirement already satisfied: Flask>=0.8 in /usr/local/lib/python3.11/dist-packages (from flask-ngrok) (3.1.0)\n",
            "Requirement already satisfied: requests in /usr/local/lib/python3.11/dist-packages (from flask-ngrok) (2.32.3)\n",
            "Requirement already satisfied: Werkzeug>=3.1 in /usr/local/lib/python3.11/dist-packages (from Flask>=0.8->flask-ngrok) (3.1.3)\n",
            "Requirement already satisfied: Jinja2>=3.1.2 in /usr/local/lib/python3.11/dist-packages (from Flask>=0.8->flask-ngrok) (3.1.6)\n",
            "Requirement already satisfied: itsdangerous>=2.2 in /usr/local/lib/python3.11/dist-packages (from Flask>=0.8->flask-ngrok) (2.2.0)\n",
            "Requirement already satisfied: click>=8.1.3 in /usr/local/lib/python3.11/dist-packages (from Flask>=0.8->flask-ngrok) (8.1.8)\n",
            "Requirement already satisfied: blinker>=1.9 in /usr/local/lib/python3.11/dist-packages (from Flask>=0.8->flask-ngrok) (1.9.0)\n",
            "Requirement already satisfied: charset-normalizer<4,>=2 in /usr/local/lib/python3.11/dist-packages (from requests->flask-ngrok) (3.4.1)\n",
            "Requirement already satisfied: idna<4,>=2.5 in /usr/local/lib/python3.11/dist-packages (from requests->flask-ngrok) (3.10)\n",
            "Requirement already satisfied: urllib3<3,>=1.21.1 in /usr/local/lib/python3.11/dist-packages (from requests->flask-ngrok) (2.3.0)\n",
            "Requirement already satisfied: certifi>=2017.4.17 in /usr/local/lib/python3.11/dist-packages (from requests->flask-ngrok) (2025.1.31)\n",
            "Requirement already satisfied: MarkupSafe>=2.0 in /usr/local/lib/python3.11/dist-packages (from Jinja2>=3.1.2->Flask>=0.8->flask-ngrok) (3.0.2)\n",
            "Downloading flask_ngrok-0.0.25-py3-none-any.whl (3.1 kB)\n",
            "Installing collected packages: flask-ngrok\n",
            "Successfully installed flask-ngrok-0.0.25\n"
          ]
        }
      ]
    },
    {
      "cell_type": "code",
      "source": [
        "app = Flask(__name__)\n",
        "run_with_ngrok(app)  # Start ngrok when the app runs\n",
        "\n",
        "@app.route(\"/\")\n",
        "def home():\n",
        "    return \"ParkinVision Flask App is running!\"\n",
        "\n",
        "if __name__ == \"__main__\":\n",
        "    app.run()\n"
      ],
      "metadata": {
        "colab": {
          "base_uri": "https://localhost:8080/"
        },
        "id": "7r4Mg-1z6CGH",
        "outputId": "ffda3aeb-471f-4e1d-b458-caba66a6e041"
      },
      "execution_count": 5,
      "outputs": [
        {
          "output_type": "stream",
          "name": "stdout",
          "text": [
            " * Serving Flask app '__main__'\n",
            " * Debug mode: off\n"
          ]
        },
        {
          "output_type": "stream",
          "name": "stderr",
          "text": [
            "INFO:werkzeug:\u001b[31m\u001b[1mWARNING: This is a development server. Do not use it in a production deployment. Use a production WSGI server instead.\u001b[0m\n",
            " * Running on http://127.0.0.1:5000\n",
            "INFO:werkzeug:\u001b[33mPress CTRL+C to quit\u001b[0m\n",
            "Exception in thread Thread-9:\n",
            "Traceback (most recent call last):\n",
            "  File \"/usr/local/lib/python3.11/dist-packages/urllib3/connection.py\", line 198, in _new_conn\n",
            "    sock = connection.create_connection(\n",
            "           ^^^^^^^^^^^^^^^^^^^^^^^^^^^^^\n",
            "  File \"/usr/local/lib/python3.11/dist-packages/urllib3/util/connection.py\", line 85, in create_connection\n",
            "    raise err\n",
            "  File \"/usr/local/lib/python3.11/dist-packages/urllib3/util/connection.py\", line 73, in create_connection\n",
            "    sock.connect(sa)\n",
            "ConnectionRefusedError: [Errno 111] Connection refused\n",
            "\n",
            "The above exception was the direct cause of the following exception:\n",
            "\n",
            "Traceback (most recent call last):\n",
            "  File \"/usr/local/lib/python3.11/dist-packages/urllib3/connectionpool.py\", line 787, in urlopen\n",
            "    response = self._make_request(\n",
            "               ^^^^^^^^^^^^^^^^^^^\n",
            "  File \"/usr/local/lib/python3.11/dist-packages/urllib3/connectionpool.py\", line 493, in _make_request\n",
            "    conn.request(\n",
            "  File \"/usr/local/lib/python3.11/dist-packages/urllib3/connection.py\", line 445, in request\n",
            "    self.endheaders()\n",
            "  File \"/usr/lib/python3.11/http/client.py\", line 1298, in endheaders\n",
            "    self._send_output(message_body, encode_chunked=encode_chunked)\n",
            "  File \"/usr/lib/python3.11/http/client.py\", line 1058, in _send_output\n",
            "    self.send(msg)\n",
            "  File \"/usr/lib/python3.11/http/client.py\", line 996, in send\n",
            "    self.connect()\n",
            "  File \"/usr/local/lib/python3.11/dist-packages/urllib3/connection.py\", line 276, in connect\n",
            "    self.sock = self._new_conn()\n",
            "                ^^^^^^^^^^^^^^^^\n",
            "  File \"/usr/local/lib/python3.11/dist-packages/urllib3/connection.py\", line 213, in _new_conn\n",
            "    raise NewConnectionError(\n",
            "urllib3.exceptions.NewConnectionError: <urllib3.connection.HTTPConnection object at 0x7b05ae245350>: Failed to establish a new connection: [Errno 111] Connection refused\n",
            "\n",
            "The above exception was the direct cause of the following exception:\n",
            "\n",
            "Traceback (most recent call last):\n",
            "  File \"/usr/local/lib/python3.11/dist-packages/requests/adapters.py\", line 667, in send\n",
            "    resp = conn.urlopen(\n",
            "           ^^^^^^^^^^^^^\n",
            "  File \"/usr/local/lib/python3.11/dist-packages/urllib3/connectionpool.py\", line 841, in urlopen\n",
            "    retries = retries.increment(\n",
            "              ^^^^^^^^^^^^^^^^^^\n",
            "  File \"/usr/local/lib/python3.11/dist-packages/urllib3/util/retry.py\", line 519, in increment\n",
            "    raise MaxRetryError(_pool, url, reason) from reason  # type: ignore[arg-type]\n",
            "    ^^^^^^^^^^^^^^^^^^^^^^^^^^^^^^^^^^^^^^^^^^^^^^^^^^^\n",
            "urllib3.exceptions.MaxRetryError: HTTPConnectionPool(host='localhost', port=4040): Max retries exceeded with url: /api/tunnels (Caused by NewConnectionError('<urllib3.connection.HTTPConnection object at 0x7b05ae245350>: Failed to establish a new connection: [Errno 111] Connection refused'))\n",
            "\n",
            "During handling of the above exception, another exception occurred:\n",
            "\n",
            "Traceback (most recent call last):\n",
            "  File \"/usr/lib/python3.11/threading.py\", line 1045, in _bootstrap_inner\n",
            "    self.run()\n",
            "  File \"/usr/lib/python3.11/threading.py\", line 1401, in run\n",
            "    self.function(*self.args, **self.kwargs)\n",
            "  File \"/usr/local/lib/python3.11/dist-packages/flask_ngrok.py\", line 70, in start_ngrok\n",
            "    ngrok_address = _run_ngrok()\n",
            "                    ^^^^^^^^^^^^\n",
            "  File \"/usr/local/lib/python3.11/dist-packages/flask_ngrok.py\", line 35, in _run_ngrok\n",
            "    tunnel_url = requests.get(localhost_url).text  # Get the tunnel information\n",
            "                 ^^^^^^^^^^^^^^^^^^^^^^^^^^^\n",
            "  File \"/usr/local/lib/python3.11/dist-packages/requests/api.py\", line 73, in get\n",
            "    return request(\"get\", url, params=params, **kwargs)\n",
            "           ^^^^^^^^^^^^^^^^^^^^^^^^^^^^^^^^^^^^^^^^^^^^\n",
            "  File \"/usr/local/lib/python3.11/dist-packages/requests/api.py\", line 59, in request\n",
            "    return session.request(method=method, url=url, **kwargs)\n",
            "           ^^^^^^^^^^^^^^^^^^^^^^^^^^^^^^^^^^^^^^^^^^^^^^^^^\n",
            "  File \"/usr/local/lib/python3.11/dist-packages/requests/sessions.py\", line 589, in request\n",
            "    resp = self.send(prep, **send_kwargs)\n",
            "           ^^^^^^^^^^^^^^^^^^^^^^^^^^^^^^\n",
            "  File \"/usr/local/lib/python3.11/dist-packages/requests/sessions.py\", line 703, in send\n",
            "    r = adapter.send(request, **kwargs)\n",
            "        ^^^^^^^^^^^^^^^^^^^^^^^^^^^^^^^\n",
            "  File \"/usr/local/lib/python3.11/dist-packages/requests/adapters.py\", line 700, in send\n",
            "    raise ConnectionError(e, request=request)\n",
            "requests.exceptions.ConnectionError: HTTPConnectionPool(host='localhost', port=4040): Max retries exceeded with url: /api/tunnels (Caused by NewConnectionError('<urllib3.connection.HTTPConnection object at 0x7b05ae245350>: Failed to establish a new connection: [Errno 111] Connection refused'))\n"
          ]
        }
      ]
    }
  ]
}